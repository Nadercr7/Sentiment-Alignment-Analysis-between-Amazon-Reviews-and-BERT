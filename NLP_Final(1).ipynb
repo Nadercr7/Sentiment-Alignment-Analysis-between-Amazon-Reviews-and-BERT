{
 "cells": [
  {
   "cell_type": "markdown",
   "id": "73949b29-523a-449b-a8b6-c31b0b4fb433",
   "metadata": {},
   "source": [
    "<a id=\"top\"></a>\n",
    "\n",
    "# <div style=\"text-align:center; padding:15px; color:white; font-size:150%; font-family:'Trebuchet MS'; background:linear-gradient(90deg, #0f2027, #203a43, #2c5364); border-radius:12px;\">🧠 Amazon Reviews Sentiment Analysis</div>\n"
   ]
  },
  {
   "cell_type": "markdown",
   "id": "1a37bc40-c2b0-4d35-8346-22295c0abe55",
   "metadata": {},
   "source": [
    "## 📌 Table of Contents\n",
    "\n",
    "- [1. Imports and Configuration](#1)\n",
    "- [2. Data Loading and Cleaning](#2)\n",
    "- [3. Sentiment Analysis with BERT](#3)\n",
    "- [4. Sentiment vs Star Rating Alignment](#4)\n",
    "- [5. Results and Visualizations](#5)\n",
    "- [6. Notable Examples](#6)\n",
    "- [7. Export and Wrap-up](#7)\n"
   ]
  },
  {
   "cell_type": "markdown",
   "id": "2fac0be3-57ac-4673-bdea-4bcc2ea71ce1",
   "metadata": {},
   "source": [
    "<a id=\"1\"></a>\n",
    "\n",
    "## 🔧 **Imports and Configuration**\n",
    "\n",
    "In this section, we import all the necessary libraries for data manipulation, visualization, NLP, and transformer-based sentiment analysis. We also configure display settings, progress bars, and hardware utilization (CPU/GPU).\n"
   ]
  },
  {
   "cell_type": "code",
   "execution_count": 1,
   "id": "10dec575-99bb-4d55-a611-b4d589f86b64",
   "metadata": {},
   "outputs": [
    {
     "name": "stdout",
     "output_type": "stream",
     "text": [
      "Using device: cpu\n",
      "--- Script Start ---\n"
     ]
    }
   ],
   "source": [
    "# Imports\n",
    "import pandas as pd\n",
    "import numpy as np\n",
    "import matplotlib.pyplot as plt\n",
    "import seaborn as sns\n",
    "import nltk\n",
    "from tqdm import tqdm\n",
    "import time\n",
    "import torch\n",
    "from torch.nn.functional import softmax\n",
    "from transformers import AutoTokenizer, AutoModelForSequenceClassification\n",
    "\n",
    "# Download NLTK data\n",
    "nltk.download('punkt', quiet=True)\n",
    "\n",
    "# Register tqdm with pandas\n",
    "tqdm.pandas(desc=\"Processing...\")\n",
    "\n",
    "# Display settings\n",
    "plt.style.use('ggplot')\n",
    "pd.set_option('display.max_colwidth', 300)\n",
    "\n",
    "# Device configuration (use GPU if available)\n",
    "device = torch.device('cuda' if torch.cuda.is_available() else 'cpu')\n",
    "print(f\"Using device: {device}\")\n",
    "\n",
    "# Start timing\n",
    "print(\"--- Script Start ---\")\n",
    "start_time = time.time()\n"
   ]
  },
  {
   "cell_type": "markdown",
   "id": "311ffefd-1f08-41e0-b605-c6eb1e04003d",
   "metadata": {},
   "source": [
    "<a id=\"2\"></a>\n",
    "\n",
    "## 🗂️ **Data Loading and Cleaning**\n",
    "\n",
    "We load the Amazon review dataset and clean it by:\n",
    "- Handling missing values in text and score columns,\n",
    "- Filtering out empty reviews,\n",
    "- Ensuring all data is in the correct format for analysis.\n"
   ]
  },
  {
   "cell_type": "code",
   "execution_count": 2,
   "id": "e87a1649-3da4-4d89-98bb-51c865681209",
   "metadata": {},
   "outputs": [
    {
     "name": "stdout",
     "output_type": "stream",
     "text": [
      "Loaded Amazon Customer Reviews.csv successfully.\n",
      "Original DataFrame shape: (568454, 2)\n",
      "Removed 0 rows; Current shape: (568454, 2)\n"
     ]
    }
   ],
   "source": [
    "# File path\n",
    "file_path = 'Amazon Customer Reviews.csv'\n",
    "\n",
    "# Load data\n",
    "try:\n",
    "    df = pd.read_csv(file_path, index_col='Id', usecols=['Id', 'Score', 'Text'])\n",
    "    print(f\"Loaded {file_path} successfully.\")\n",
    "except FileNotFoundError:\n",
    "    print(f\"Error: File not found at {file_path}\")\n",
    "    raise\n",
    "except ValueError as e:\n",
    "    print(f\"ValueError: {e}. Attempting to read all columns...\")\n",
    "    df = pd.read_csv(file_path, index_col='Id')\n",
    "    if not all(col in df.columns for col in ['Score', 'Text']):\n",
    "        raise ValueError(\"Required columns 'Score' or 'Text' missing.\")\n",
    "\n",
    "print(\"Original DataFrame shape:\", df.shape)\n",
    "\n",
    "# Handle missing or malformed data\n",
    "initial_rows = len(df)\n",
    "df['Text'] = df['Text'].fillna('')\n",
    "df['Score'] = (\n",
    "    pd.to_numeric(df['Score'], errors='coerce')\n",
    "      .fillna(0)\n",
    "      .astype(int)\n",
    ")\n",
    "\n",
    "# Remove rows with empty text\n",
    "df = df[df['Text'].str.strip() != '']\n",
    "rows_after = len(df)\n",
    "print(f\"Removed {initial_rows - rows_after} rows; Current shape: {df.shape}\")\n"
   ]
  },
  {
   "cell_type": "markdown",
   "id": "1444a872-e32c-4272-b2e0-ad4a18f7a6e6",
   "metadata": {},
   "source": [
    "<a id=\"3\"></a>\n",
    "\n",
    "## 🤖 **Sentiment Analysis with BERT**\n",
    "\n",
    "We use **`nlptown/bert-base-multilingual-uncased-sentiment`**, a multilingual pre-trained BERT model, to assess the sentiment of each review. This includes:\n",
    "- Tokenization and model inference,\n",
    "- Conversion of logits to sentiment scores (negative, neutral, positive),\n",
    "- Calculation of a compound sentiment score for simplified comparison."
   ]
  },
  {
   "cell_type": "code",
   "execution_count": 5,
   "id": "e2c40f0b-5c0d-490b-a0db-15de3308434f",
   "metadata": {},
   "outputs": [
    {
     "name": "stdout",
     "output_type": "stream",
     "text": [
      "BERT model and tokenizer loaded.\n"
     ]
    }
   ],
   "source": [
    "# Load model and tokenizer\n",
    "model_name = \"nlptown/bert-base-multilingual-uncased-sentiment\"\n",
    "tokenizer = AutoTokenizer.from_pretrained(model_name)\n",
    "model = AutoModelForSequenceClassification.from_pretrained(model_name).to(device)\n",
    "\n",
    "print(\"BERT model and tokenizer loaded.\")"
   ]
  },
  {
   "cell_type": "markdown",
   "id": "49bad60f-8afc-49ca-80d1-e5e041b76eb7",
   "metadata": {},
   "source": [
    "### 🧠 **BERT Sentiment Function**\n",
    "\n",
    "Defines `get_bert_sentiment()`, a robust helper function to:\n",
    "- Tokenize and truncate long input text,\n",
    "- Perform sentiment classification using BERT,\n",
    "- Map logits to probabilities across 5 sentiment classes,\n",
    "- Aggregate them into three main sentiment categories (`neg`, `neu`, `pos`) and a `compound` score.\n"
   ]
  },
  {
   "cell_type": "code",
   "execution_count": 7,
   "id": "6bd852b1-8e37-4d58-9da3-965a68d3d435",
   "metadata": {},
   "outputs": [],
   "source": [
    "# Helper function to analyze text\n",
    "def get_bert_sentiment(text, max_length=512):\n",
    "    try:\n",
    "        if not isinstance(text, str) or text.strip() == '':\n",
    "            return {'neg': 0.0, 'neu': 0.5, 'pos': 0.0, 'compound': 0.0}\n",
    "        \n",
    "        # Truncate long text\n",
    "        if len(text) > max_length * 4:\n",
    "            text = text[:max_length * 4]\n",
    "        \n",
    "        # Tokenize\n",
    "        inputs = tokenizer(\n",
    "            text,\n",
    "            return_tensors=\"pt\",\n",
    "            truncation=True,\n",
    "            max_length=max_length,\n",
    "            padding=True\n",
    "        )\n",
    "        inputs = {k: v.to(device) for k, v in inputs.items()}\n",
    "\n",
    "        # Predict\n",
    "        with torch.no_grad():\n",
    "            outputs = model(**inputs)\n",
    "            scores = softmax(outputs.logits, dim=1).squeeze().tolist()\n",
    "\n",
    "        # Convert scores\n",
    "        if isinstance(scores, list):\n",
    "            neg = sum(scores[0:2])\n",
    "            neu = scores[2]\n",
    "            pos = sum(scores[3:5])\n",
    "            compound = (pos - neg) * 0.5\n",
    "        else:\n",
    "            neg, neu, pos, compound = 0.0, 1.0, 0.0, 0.0\n",
    "\n",
    "        return {'neg': neg, 'neu': neu, 'pos': pos, 'compound': compound}\n",
    "    \n",
    "    except Exception as e:\n",
    "        print(f\"Error analyzing text: {e}\")\n",
    "        return {'neg': 0.0, 'neu': 1.0, 'pos': 0.0, 'compound': 0.0}"
   ]
  },
  {
   "cell_type": "markdown",
   "id": "6c5d3795-8db7-403c-92b6-25807bb53c16",
   "metadata": {},
   "source": [
    "### 📊 **Sentiment Score Application**\n",
    "\n",
    "- Applies the sentiment function to all text reviews using a progress bar.\n",
    "- Flattens the resulting dictionaries into separate columns for easier analysis.\n"
   ]
  },
  {
   "cell_type": "code",
   "execution_count": 9,
   "id": "26491000-5c76-4e40-a429-06ab573b1d84",
   "metadata": {},
   "outputs": [
    {
     "name": "stdout",
     "output_type": "stream",
     "text": [
      "Calculating BERT sentiment scores...\n"
     ]
    },
    {
     "name": "stderr",
     "output_type": "stream",
     "text": [
      "Processing...: 100%|████████████████████████████████████████████████████████| 568454/568454 [25:53:04<00:00,  6.10it/s]\n"
     ]
    },
    {
     "name": "stdout",
     "output_type": "stream",
     "text": [
      "    Score  \\\n",
      "Id          \n",
      "1       5   \n",
      "2       1   \n",
      "3       4   \n",
      "4       2   \n",
      "5       5   \n",
      "\n",
      "                                                                                                                                                                                                                                                                                                           Text  \\\n",
      "Id                                                                                                                                                                                                                                                                                                                \n",
      "1                                       I have bought several of the Vitality canned dog food products and have found them all to be of good quality. The product looks more like a stew than a processed meat and it smells better. My Labrador is finicky and she appreciates this product better than  most.   \n",
      "2                                                                                                                Product arrived labeled as Jumbo Salted Peanuts...the peanuts were actually small sized unsalted. Not sure if this was an error or if the vendor intended to represent the product as \"Jumbo\".   \n",
      "3   This is a confection that has been around a few centuries.  It is a light, pillowy citrus gelatin with nuts - in this case Filberts. And it is cut into tiny squares and then liberally coated with powdered sugar.  And it is a tiny mouthful of heaven.  Not too chewy, and very flavorful.  I highly ...   \n",
      "4                                                                                   If you are looking for the secret ingredient in Robitussin I believe I have found it.  I got this in addition to the Root Beer Extract I ordered (which was good) and made some cherry soda.  The flavor is very medicinal.   \n",
      "5                                                                                                                                                                  Great taffy at a great price.  There was a wide assortment of yummy taffy.  Delivery was very quick.  If your a taffy lover, this is a deal.   \n",
      "\n",
      "         neg       neu       pos  compound  \n",
      "Id                                          \n",
      "1   0.004036  0.023871  0.972094  0.484029  \n",
      "2   0.824102  0.129978  0.045920 -0.389091  \n",
      "3   0.004807  0.011351  0.983841  0.489517  \n",
      "4   0.067716  0.101379  0.830905  0.381594  \n",
      "5   0.003609  0.013039  0.983352  0.489871  \n"
     ]
    }
   ],
   "source": [
    "# Apply function with progress bar\n",
    "print(\"Calculating BERT sentiment scores...\")\n",
    "bert_scores = df['Text'].progress_apply(get_bert_sentiment)\n",
    "\n",
    "# Expand dicts to columns\n",
    "bert_df = pd.json_normalize(bert_scores)\n",
    "bert_df.index = df.index\n",
    "df = pd.concat([df, bert_df], axis=1)\n",
    "\n",
    "# Preview\n",
    "print(df[['Score', 'Text', 'neg', 'neu', 'pos', 'compound']].head())"
   ]
  },
  {
   "cell_type": "markdown",
   "id": "7070159f-0167-4777-a496-edc906efcc78",
   "metadata": {},
   "source": [
    "### 🎯 **Alignment Analysis**\n",
    "\n",
    "- Compares user star scores to BERT-generated sentiment scores.\n",
    "- Classifies alignment into:\n",
    "  - Agreement (Pos-Pos / Neg-Neg)\n",
    "  - Disagreement (PosScore-NegText / NegScore-PosText)\n",
    "  - Ambiguous/Neutral\n",
    "- Stores results in a new column `Alignment_BERT`.\n"
   ]
  },
  {
   "cell_type": "code",
   "execution_count": 10,
   "id": "42b54486-21d2-4bd9-9f0b-7a5e0b5701e6",
   "metadata": {},
   "outputs": [
    {
     "name": "stdout",
     "output_type": "stream",
     "text": [
      "Calculating alignment...\n"
     ]
    },
    {
     "name": "stderr",
     "output_type": "stream",
     "text": [
      "Processing...: 100%|███████████████████████████████████████████████████████| 568454/568454 [00:05<00:00, 112152.16it/s]"
     ]
    },
    {
     "name": "stdout",
     "output_type": "stream",
     "text": [
      "    Score  compound                   Alignment_BERT\n",
      "Id                                                  \n",
      "1       5  0.484029              Agreement (Pos-Pos)\n",
      "2       1 -0.389091              Agreement (Neg-Neg)\n",
      "3       4  0.489517              Agreement (Pos-Pos)\n",
      "4       2  0.381594  Disagreement (NegScore-PosText)\n",
      "5       5  0.489871              Agreement (Pos-Pos)\n"
     ]
    },
    {
     "name": "stderr",
     "output_type": "stream",
     "text": [
      "\n"
     ]
    }
   ],
   "source": [
    "# Define thresholds\n",
    "bert_pos = 0.05\n",
    "bert_neg = -0.05\n",
    "\n",
    "# Alignment checking function\n",
    "def check_alignment(row):\n",
    "    score = row['Score']\n",
    "    comp = row['compound']\n",
    "\n",
    "    # Text sentiment\n",
    "    if comp >= bert_pos:\n",
    "        txt_cat = \"Positive\"\n",
    "    elif comp <= bert_neg:\n",
    "        txt_cat = \"Negative\"\n",
    "    else:\n",
    "        txt_cat = \"Neutral\"\n",
    "\n",
    "    # Star rating category\n",
    "    if score >= 4:\n",
    "        scr_cat = \"Positive\"\n",
    "    elif score <= 2:\n",
    "        scr_cat = \"Negative\"\n",
    "    else:\n",
    "        scr_cat = \"Neutral\"\n",
    "\n",
    "    # Determine agreement\n",
    "    if scr_cat == txt_cat == \"Positive\":\n",
    "        return \"Agreement (Pos-Pos)\"\n",
    "    if scr_cat == txt_cat == \"Negative\":\n",
    "        return \"Agreement (Neg-Neg)\"\n",
    "    if scr_cat == \"Positive\" and txt_cat == \"Negative\":\n",
    "        return \"Disagreement (PosScore-NegText)\"\n",
    "    if scr_cat == \"Negative\" and txt_cat == \"Positive\":\n",
    "        return \"Disagreement (NegScore-PosText)\"\n",
    "    return \"Ambiguous/Neutral\"\n",
    "\n",
    "# Apply alignment check\n",
    "print(\"Calculating alignment...\")\n",
    "df['Alignment_BERT'] = df.progress_apply(check_alignment, axis=1)\n",
    "\n",
    "# Show results\n",
    "print(df[['Score', 'compound', 'Alignment_BERT']].head())"
   ]
  },
  {
   "cell_type": "markdown",
   "id": "8322357a-4044-4c2f-bc56-d152e95c44ee",
   "metadata": {},
   "source": [
    "### 📈 **Visual Insights**\n",
    "\n",
    "- Plots the distribution of alignment categories using `seaborn`.\n",
    "- Displays examples of notable disagreements between score and sentiment."
   ]
  },
  {
   "cell_type": "code",
   "execution_count": 11,
   "id": "ba96d11a-17b0-4253-8b34-c1da0bc02d0e",
   "metadata": {},
   "outputs": [
    {
     "name": "stdout",
     "output_type": "stream",
     "text": [
      "Alignment_BERT\n",
      "Agreement (Pos-Pos)                404811\n",
      "Agreement (Neg-Neg)                 73800\n",
      "Ambiguous/Neutral                   58629\n",
      "Disagreement (PosScore-NegText)     26165\n",
      "Disagreement (NegScore-PosText)      5049\n",
      "Name: count, dtype: int64\n",
      "Alignment_BERT\n",
      "Agreement (Pos-Pos)                71.21\n",
      "Agreement (Neg-Neg)                12.98\n",
      "Ambiguous/Neutral                  10.31\n",
      "Disagreement (PosScore-NegText)     4.60\n",
      "Disagreement (NegScore-PosText)     0.89\n",
      "Name: count, dtype: float64\n"
     ]
    },
    {
     "data": {
      "image/png": "[encoded data removed]",
      "text/plain": [
       "<Figure size 1000x600 with 1 Axes>"
      ]
     },
     "metadata": {},
     "output_type": "display_data"
    },
    {
     "name": "stdout",
     "output_type": "stream",
     "text": [
      "Examples of Positive Score but Negative Text:\n",
      "        Score  compound  \\\n",
      "Id                        \n",
      "15403       5 -0.189278   \n",
      "513699      4 -0.084081   \n",
      "180744      5 -0.276782   \n",
      "559049      5 -0.058533   \n",
      "521670      4 -0.212922   \n",
      "\n",
      "                                                                                                                                                                                                                                                                                                               Text  \n",
      "Id                                                                                                                                                                                                                                                                                                                   \n",
      "15403   I eat brown rice at least 4 times a week. This product was definitely an excellent buy for my needs. However there are two things you should consider: do you eat rice as much as I do? If not, you can expect your brown rice to go rancid in about 4-6 months.<br /><br />Secondly and most importantl...  \n",
      "513699                                                                  I feel better about feeding this product to my dogs.  I was using another popular brand,<br />but it contained a lot of fillers.  One of my dogs is \"pickier,\" so he would prefer a meatier<br />taste, but he does clean it up eventually.  \n",
      "180744                                                                                                                                              My cats become crazy cats for these treats... really, their eye get dilate, they run around and try to grab the bag out of my hands. We call it kitty crack! :)  \n",
      "559049  I am a first time buyer of Jelly Flops, which arrived shortly after I ordered them; great variety, lots of Pears, which I didn't think I liked (saved them until I'd had eaten all the others), then went back and ate them all -- they were pretty good.  I wanted to order more, but after reading rev...  \n",
      "521670  My wife and I really didn't like any of these flavors, with the exception of the Texas BBQ.  It is a sweet barbecue, which I normally don't like.  Our kids selected the Texas BBQ as a trail snack for camping combined with some round crackers and ooh baby did it hit the spot.  That said, I think ...  \n",
      "Examples of Negative Score but Positive Text:\n",
      "        Score  compound  \\\n",
      "Id                        \n",
      "528513      1  0.050193   \n",
      "77619       2  0.429164   \n",
      "6961        2  0.217662   \n",
      "381222      1  0.192055   \n",
      "525004      2  0.238443   \n",
      "\n",
      "                                                                                                                                                                                                                                                                                                               Text  \n",
      "Id                                                                                                                                                                                                                                                                                                                   \n",
      "528513  This is an easy review because the judgement was made by our two papillons.  They live for their treats and are NOT especially picky about treats.  These items are dried, uniform in size, and although they may be \"organic\" they smell bad and my dogs would have nothing to do with them.  I threw t...  \n",
      "77619   These 8.3 oz cans of Switch keep their promise. There are no added sugar, no corn syrup, and no preservatives. It is a carbonated all natural 100% juice. Like most of these `juices drinks' the ingredients state 100% Juice in this order; Filtered Sparkling Water Sufficient to Reconstitute Juice C...  \n",
      "6961    This was the most potent orange drink I have ever had. It might be \"100% juice,\" but this drink has some kick.<br /><br />There are no artificial sweeteners in this drink, but it is so highly concentrated that it was overwhelmingly sweet and even the tang of the carbonation couldn't cute into th...  \n",
      "381222                                                                                                                                                                           It's nearly a month, and I'm still waiting for this delivery.  Diabetics depend on these snacks, is why they were ordered in bulk.  \n",
      "525004  These are not the normal 1\" tubes of gumballs that you usually see in stores, but instead tubes of 1/2\" balls.  They are charging \"only\" $13.97 even though the individual tubes are printed \"25 cents\".  That would be $9 worth of gum with a \"list price\" of $18.00.  It would be cheaper just to walk...  \n",
      "Results saved to Reviews_with_BERT_Alignment.csv\n"
     ]
    }
   ],
   "source": [
    "# Alignment counts\n",
    "counts = df['Alignment_BERT'].value_counts()\n",
    "print(counts)\n",
    "print((counts / counts.sum() * 100).round(2))\n",
    "\n",
    "# Plotting\n",
    "plt.figure(figsize=(10, 6))\n",
    "sns.countplot(data=df, y='Alignment_BERT', order=counts.index)\n",
    "plt.title('Star Score vs Text Sentiment Alignment (BERT)')\n",
    "plt.xlabel('Review Count')\n",
    "plt.ylabel('Alignment Category')\n",
    "plt.tight_layout()\n",
    "plt.show()\n",
    "\n",
    "# High-score but negative-text examples\n",
    "neg_examples = df[df['Alignment_BERT'] == 'Disagreement (PosScore-NegText)']\n",
    "print(\"Examples of Positive Score but Negative Text:\")\n",
    "print(neg_examples[['Score', 'compound', 'Text']].sample(min(5, len(neg_examples)), random_state=42))\n",
    "\n",
    "# Low-score but positive-text examples\n",
    "pos_examples = df[df['Alignment_BERT'] == 'Disagreement (NegScore-PosText)']\n",
    "print(\"Examples of Negative Score but Positive Text:\")\n",
    "print(pos_examples[['Score', 'compound', 'Text']].sample(min(5, len(pos_examples)), random_state=42))\n",
    "\n",
    "# Save results\n",
    "output_file = 'Reviews_with_BERT_Alignment.csv'\n",
    "df[['Score', 'Text', 'neg', 'neu', 'pos', 'compound', 'Alignment_BERT']].to_csv(output_file)\n",
    "print(f\"Results saved to {output_file}\")"
   ]
  },
  {
   "cell_type": "markdown",
   "id": "86849b8f-340c-457a-add0-7e028c1cc296",
   "metadata": {},
   "source": [
    "### 💾 **Output**\n",
    "\n",
    "- Saves the enhanced dataset (with sentiment and alignment) to a CSV file.\n",
    "- Prints total runtime for the entire script."
   ]
  },
  {
   "cell_type": "code",
   "execution_count": 12,
   "id": "bed4b9db-fe38-4647-a63f-31743b815f86",
   "metadata": {},
   "outputs": [
    {
     "name": "stdout",
     "output_type": "stream",
     "text": [
      "--- Script End ---\n",
      "Elapsed time: 93265.93 seconds\n"
     ]
    }
   ],
   "source": [
    "# Timing\n",
    "end_time = time.time()\n",
    "print(f\"--- Script End ---\\nElapsed time: {end_time - start_time:.2f} seconds\")"
   ]
  }
 ],
 "metadata": {
  "kernelspec": {
   "display_name": "Python 3 (ipykernel)",
   "language": "python",
   "name": "python3"
  },
  "language_info": {
   "codemirror_mode": {
    "name": "ipython",
    "version": 3
   },
   "file_extension": ".py",
   "mimetype": "text/x-python",
   "name": "python",
   "nbconvert_exporter": "python",
   "pygments_lexer": "ipython3",
   "version": "3.12.4"
  }
 },
 "nbformat": 4,
 "nbformat_minor": 5
}
